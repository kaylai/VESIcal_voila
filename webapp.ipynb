{
 "cells": [
  {
   "cell_type": "markdown",
   "metadata": {},
   "source": [
    "# The VESIcal web app\n",
    "\n",
    "Here we use Jupyter Notebook and voila to render a webapp for running VESIcal calculations on an input file describing a dataset."
   ]
  },
  {
   "cell_type": "code",
   "execution_count": 1,
   "metadata": {},
   "outputs": [
    {
     "name": "stderr",
     "output_type": "stream",
     "text": [
      "/opt/anaconda3/lib/python3.9/site-packages/numdifftools/multicomplex.py:35: DeprecationWarning: `finfo.machar` is deprecated (NumPy 1.22)\n",
      "  _TINY = np.finfo(float).machar.tiny\n"
     ]
    }
   ],
   "source": [
    "import VESIcal as v\n",
    "import io\n",
    "import pandas as pd"
   ]
  },
  {
   "cell_type": "code",
   "execution_count": 2,
   "metadata": {},
   "outputs": [],
   "source": [
    "import ipywidgets\n",
    "from IPython.display import display, FileLink, FileLinks"
   ]
  },
  {
   "cell_type": "markdown",
   "metadata": {},
   "source": [
    "# Upload your file"
   ]
  },
  {
   "cell_type": "code",
   "execution_count": 3,
   "metadata": {},
   "outputs": [
    {
     "data": {
      "application/vnd.jupyter.widget-view+json": {
       "model_id": "9b81abce3cde4da0a73c1b1e06a91158",
       "version_major": 2,
       "version_minor": 0
      },
      "text/plain": [
       "FileUpload(value={}, description='Upload')"
      ]
     },
     "metadata": {},
     "output_type": "display_data"
    }
   ],
   "source": [
    "import ipywidgets as widgets\n",
    "\n",
    "# ipywidgets file uploader button\n",
    "uploader = widgets.FileUpload()\n",
    "display(uploader)\n",
    "\n",
    "# set custom layout for widgets\n",
    "layout = widgets.Layout(width='auto', height='40px') #set width and height\n",
    "\n",
    "# allow too long of descriptions\n",
    "style = {'description_width': 'initial'}"
   ]
  },
  {
   "cell_type": "markdown",
   "metadata": {},
   "source": [
    "# Calculate Saturation Pressures"
   ]
  },
  {
   "cell_type": "code",
   "execution_count": 27,
   "metadata": {},
   "outputs": [
    {
     "data": {
      "application/vnd.jupyter.widget-view+json": {
       "model_id": "189301b0d1f8457e88daf0d0e4299e2f",
       "version_major": 2,
       "version_minor": 0
      },
      "text/plain": [
       "Dropdown(description='Model:', options=(('MagmaSat', 'MagmaSat'), ('Dixon', 'Dixon'), ('Shishkina', 'Shishkina…"
      ]
     },
     "metadata": {},
     "output_type": "display_data"
    },
    {
     "data": {
      "application/vnd.jupyter.widget-view+json": {
       "model_id": "545a2bdb316e487a8d683326f4b8ba6d",
       "version_major": 2,
       "version_minor": 0
      },
      "text/plain": [
       "Text(value='', description='Temperature:', placeholder='Temperature (degC)', style=DescriptionStyle(descriptio…"
      ]
     },
     "metadata": {},
     "output_type": "display_data"
    },
    {
     "data": {
      "application/vnd.jupyter.widget-view+json": {
       "model_id": "47e4e2cc457b43f3aa778273b33cc653",
       "version_major": 2,
       "version_minor": 0
      },
      "text/plain": [
       "Checkbox(value=False, description='Use temperature from file (if checked, put column name in Temperature box)'…"
      ]
     },
     "metadata": {},
     "output_type": "display_data"
    },
    {
     "data": {
      "application/vnd.jupyter.widget-view+json": {
       "model_id": "30d1b01fdb60464e99decb885800e7e9",
       "version_major": 2,
       "version_minor": 0
      },
      "text/plain": [
       "Button(description='Calculate Saturation Pressures', icon='check', layout=Layout(height='40px', width='auto'),…"
      ]
     },
     "metadata": {},
     "output_type": "display_data"
    },
    {
     "data": {
      "application/vnd.jupyter.widget-view+json": {
       "model_id": "52aa2c57a1c748b6a507a984396a67e0",
       "version_major": 2,
       "version_minor": 0
      },
      "text/plain": [
       "Output()"
      ]
     },
     "metadata": {},
     "output_type": "display_data"
    }
   ],
   "source": [
    "# create widgets so the user can choose model options\n",
    "\n",
    "# Model selection\n",
    "model_selector_satP = widgets.Dropdown(\n",
    "    options=[('MagmaSat', 'MagmaSat'),\n",
    "             ('Dixon', 'Dixon'),\n",
    "             ('Shishkina', 'ShishkinaIdealMixing'),\n",
    "             ('IaconoMarziano', 'IaconoMarziano'),\n",
    "             ('Liu', 'Liu'),\n",
    "             ('MooreWater', 'MooreWater'),\n",
    "             ('AllisonCarbon (Vesuvius)', 'AllisonCarbon_vesuvius'),\n",
    "             ('AllisonCarbon (Sunset)', 'AllisonCarbon_sunset'),\n",
    "             ('AllisonCarbon (SFVF)', 'AllisonCarbon_sfvf'),\n",
    "             ('AllisonCarbon (Erebus)', 'AllisonCarbon_erebus'),\n",
    "             ('AllisonCarbon (Stromboli)', 'AllisonCarbon_stromboli')\n",
    "            ],\n",
    "    value='MagmaSat',\n",
    "    description='Model:',\n",
    ")\n",
    "\n",
    "# Temperature selection\n",
    "temperature_selector_satP = widgets.Text(\n",
    "    value='',\n",
    "    placeholder='Temperature (degC)',\n",
    "    description='Temperature:',\n",
    "    disabled=False,\n",
    "    style=style\n",
    ")\n",
    "\n",
    "# Temperature type check box if user wants to pass temp from file\n",
    "temperature_selection_checkbox_satP = widgets.Checkbox(value=False,\n",
    "    description='Use temperature from file (if checked, put column name in Temperature box)',\n",
    "    disabled=False,\n",
    "    indent=False,\n",
    "    layout=layout)\n",
    "\n",
    "display(model_selector_satP,\n",
    "        temperature_selector_satP,\n",
    "        temperature_selection_checkbox_satP)\n",
    "\n",
    "\n",
    "# Create a button that, when clicked, gets name of file uploaded and\n",
    "# creates a BatchFile object and runs the model calculation\n",
    "button_satP = widgets.Button(\n",
    "    description='Calculate Saturation Pressures',\n",
    "    disabled=False,\n",
    "    button_style='', # 'success', 'info', 'warning', 'danger' or ''\n",
    "    tooltip='Calculate Saturation Pressures',\n",
    "    icon='check', # (FontAwesome names without the `fa-` prefix)\n",
    "    layout=layout\n",
    ")\n",
    "button_satP.style.button_color = 'lightgreen'\n",
    "output = widgets.Output()\n",
    "display(button_satP, output)\n",
    "\n",
    "def on_button_clicked_satP(b):\n",
    "    with output:\n",
    "        # print successful click\n",
    "        print(\"Button clicked.\")\n",
    "        \n",
    "        # get filename, content of file and create BatchFile object\n",
    "        uploaded_filename = next(iter(uploader.value))\n",
    "        content = uploader.value[uploaded_filename]['content']\n",
    "        with open('myfile', 'wb') as f:\n",
    "            f.write(content)\n",
    "        myfile = v.BatchFile(content)\n",
    "        \n",
    "        print(model_selector_satP.value)\n",
    "        \n",
    "        # sanitize inputs\n",
    "        if temperature_selection_checkbox_satP.value is True:\n",
    "            temperature = str(temperature_selector_satP.value)\n",
    "        else:\n",
    "            temperature = float(temperature_selector_satP.value)\n",
    "        \n",
    "        # run model calculation\n",
    "        result = myfile.calculate_saturation_pressure(temperature=temperature,\n",
    "                                                      model=model_selector_satP.value)\n",
    "        myfile.save_excel(\"VESIcal_Output.xlsx\", calculations=[result], sheet_names=[\"SatPs\"])\n",
    "        local_file = FileLink('./VESIcal_Output.xlsx', result_html_prefix=\"Click here to download: \")\n",
    "        display(local_file)\n",
    "\n",
    "button_satP.on_click(on_button_clicked_satP)"
   ]
  },
  {
   "cell_type": "markdown",
   "metadata": {},
   "source": [
    "# Calculate Dissolved Volatile Concentrations"
   ]
  },
  {
   "cell_type": "code",
   "execution_count": 17,
   "metadata": {
    "scrolled": false
   },
   "outputs": [
    {
     "data": {
      "application/vnd.jupyter.widget-view+json": {
       "model_id": "5332620fbfbf440783a6c2056fc60dbb",
       "version_major": 2,
       "version_minor": 0
      },
      "text/plain": [
       "Dropdown(description='Model:', options=(('MagmaSat', 'MagmaSat'), ('Dixon', 'Dixon'), ('Shishkina', 'Shishkina…"
      ]
     },
     "metadata": {},
     "output_type": "display_data"
    },
    {
     "data": {
      "application/vnd.jupyter.widget-view+json": {
       "model_id": "3e7ac7638d94470c8e099f7b5f540dcf",
       "version_major": 2,
       "version_minor": 0
      },
      "text/plain": [
       "Text(value='', description='Temperature:', placeholder='Temperature (degC)', style=DescriptionStyle(descriptio…"
      ]
     },
     "metadata": {},
     "output_type": "display_data"
    },
    {
     "data": {
      "application/vnd.jupyter.widget-view+json": {
       "model_id": "a855339f448445539ab244cfebe32e64",
       "version_major": 2,
       "version_minor": 0
      },
      "text/plain": [
       "Checkbox(value=False, description='Use temperature from file (if checked, enter column name in Temperature box…"
      ]
     },
     "metadata": {},
     "output_type": "display_data"
    },
    {
     "data": {
      "application/vnd.jupyter.widget-view+json": {
       "model_id": "e2f208da494a4a9ab23d1b1e2a2a885b",
       "version_major": 2,
       "version_minor": 0
      },
      "text/plain": [
       "Text(value='', description='Pressure:', placeholder='Pressure (bars)', style=DescriptionStyle(description_widt…"
      ]
     },
     "metadata": {},
     "output_type": "display_data"
    },
    {
     "data": {
      "application/vnd.jupyter.widget-view+json": {
       "model_id": "c371ed44f7d34a31b2064bfe99966daf",
       "version_major": 2,
       "version_minor": 0
      },
      "text/plain": [
       "Checkbox(value=False, description='Use pressure from file (if checked, enter column name in Pressure box)', in…"
      ]
     },
     "metadata": {},
     "output_type": "display_data"
    },
    {
     "data": {
      "application/vnd.jupyter.widget-view+json": {
       "model_id": "c601d483ebfb431d8bc469b103133b01",
       "version_major": 2,
       "version_minor": 0
      },
      "text/plain": [
       "Text(value='', description='XH2O fluid:', placeholder='XH2O fluid', style=DescriptionStyle(description_width='…"
      ]
     },
     "metadata": {},
     "output_type": "display_data"
    },
    {
     "data": {
      "application/vnd.jupyter.widget-view+json": {
       "model_id": "5157ebab1e3d406c841223121b15f5a6",
       "version_major": 2,
       "version_minor": 0
      },
      "text/plain": [
       "Checkbox(value=False, description='Use XH2Ofluid from file (if checked, enter column name in XH2O box)', inden…"
      ]
     },
     "metadata": {},
     "output_type": "display_data"
    },
    {
     "data": {
      "application/vnd.jupyter.widget-view+json": {
       "model_id": "45ef1994d5f14fd794aad2f90f9aedcc",
       "version_major": 2,
       "version_minor": 0
      },
      "text/plain": [
       "Button(description='Calculate Dissolved Volatile Concentrations', icon='check', layout=Layout(height='40px', w…"
      ]
     },
     "metadata": {},
     "output_type": "display_data"
    },
    {
     "data": {
      "application/vnd.jupyter.widget-view+json": {
       "model_id": "895a6d60abfc4319a0afff44b8be6039",
       "version_major": 2,
       "version_minor": 0
      },
      "text/plain": [
       "Output()"
      ]
     },
     "metadata": {},
     "output_type": "display_data"
    }
   ],
   "source": [
    "# create widgets so the user can choose model options\n",
    "\n",
    "# Model selection\n",
    "model_selector_diss = widgets.Dropdown(\n",
    "    options=[('MagmaSat', 'MagmaSat'),\n",
    "             ('Dixon', 'Dixon'),\n",
    "             ('Shishkina', 'ShishkinaIdealMixing'),\n",
    "             ('IaconoMarziano', 'IaconoMarziano'),\n",
    "             ('Liu', 'Liu'),\n",
    "             ('MooreWater', 'MooreWater'),\n",
    "             ('AllisonCarbon (Vesuvius)', 'AllisonCarbon_vesuvius'),\n",
    "             ('AllisonCarbon (Sunset)', 'AllisonCarbon_sunset'),\n",
    "             ('AllisonCarbon (SFVF)', 'AllisonCarbon_sfvf'),\n",
    "             ('AllisonCarbon (Erebus)', 'AllisonCarbon_erebus'),\n",
    "             ('AllisonCarbon (Stromboli)', 'AllisonCarbon_stromboli')\n",
    "            ],\n",
    "    value='MagmaSat',\n",
    "    description='Model:',\n",
    ")\n",
    "\n",
    "# Temperature selection\n",
    "temperature_selector_diss = widgets.Text(\n",
    "    placeholder='Temperature (degC)',\n",
    "    description='Temperature:',\n",
    "    disabled=False,\n",
    "    style=style\n",
    ")\n",
    "\n",
    "# Pressure selection\n",
    "pressure_selector_diss = widgets.Text(\n",
    "    value='',\n",
    "    placeholder='Pressure (bars)',\n",
    "    description='Pressure:',\n",
    "    disabled=False,\n",
    "    style=style\n",
    ")\n",
    "\n",
    "# X_fluid selection\n",
    "Xfluid_selector_diss = widgets.Text(\n",
    "    value='',\n",
    "    placeholder='XH2O fluid',\n",
    "    description='XH2O fluid:',\n",
    "    disabled=False,\n",
    "    style=style\n",
    ")\n",
    "\n",
    "# give user option to use args in file\n",
    "temp_checkbox_diss = widgets.Checkbox(\n",
    "    value=False,\n",
    "    description='Use temperature from file (if checked, enter column name in Temperature box)',\n",
    "    disabled=False,\n",
    "    indent=False,\n",
    "    layout=layout,\n",
    "    style=style\n",
    ")\n",
    "\n",
    "# give user option to use args in file\n",
    "press_checkbox_diss = widgets.Checkbox(\n",
    "    value=False,\n",
    "    description='Use pressure from file (if checked, enter column name in Pressure box)',\n",
    "    disabled=False,\n",
    "    indent=False,\n",
    "    layout=layout,\n",
    "    style=style\n",
    ")\n",
    "\n",
    "# give user option to use args in file\n",
    "XH2O_checkbox_diss = widgets.Checkbox(\n",
    "    value=False,\n",
    "    description='Use XH2Ofluid from file (if checked, enter column name in XH2O box)',\n",
    "    disabled=False,\n",
    "    indent=False,\n",
    "    layout=layout,\n",
    "    style=style\n",
    ")\n",
    "\n",
    "display(model_selector_diss,\n",
    "        temperature_selector_diss,\n",
    "        temp_checkbox_diss,\n",
    "        pressure_selector_diss,\n",
    "        press_checkbox_diss,\n",
    "        Xfluid_selector_diss,\n",
    "        XH2O_checkbox_diss)\n",
    "\n",
    "\n",
    "# Create a button that, when clicked, gets name of file uploaded and\n",
    "# creates a BatchFile object and runs the model calculation\n",
    "button_diss = widgets.Button(\n",
    "    description='Calculate Dissolved Volatile Concentrations',\n",
    "    disabled=False,\n",
    "    button_style='', # 'success', 'info', 'warning', 'danger' or ''\n",
    "    tooltip='Calculate Dissolved Volatile Concentrations',\n",
    "    icon='check', # (FontAwesome names without the `fa-` prefix)\n",
    "    layout=layout\n",
    ")\n",
    "button_diss.style.button_color = 'lightgreen'\n",
    "output = widgets.Output()\n",
    "display(button_diss, output)\n",
    "\n",
    "def on_button_clicked_diss(b):\n",
    "    with output:\n",
    "        # print successful click\n",
    "        print(\"Button clicked.\")\n",
    "        \n",
    "        # get filename, content of file and create BatchFile object\n",
    "        uploaded_filename = next(iter(uploader.value))\n",
    "        content = uploader.value[uploaded_filename]['content']\n",
    "        with open('myfile', 'wb') as f:\n",
    "            f.write(content)\n",
    "        myfile = v.BatchFile(content)\n",
    "        \n",
    "        print(model_selector_diss.value)\n",
    "        \n",
    "        # sanitize inputs\n",
    "        if temp_checkbox_diss.value == False:\n",
    "            temperature = float(temperature_selector_diss.value)\n",
    "        else:\n",
    "            temperature = str(temperature_selector_diss.value)\n",
    "        \n",
    "        if press_checkbox_diss.value == False:\n",
    "            pressure = float(pressure_selector_diss.value)\n",
    "        else:\n",
    "            pressure = str(pressure_selector_diss.value)\n",
    "        \n",
    "        if XH2O_checkbox_diss.value == False:\n",
    "            X_fluid = float(Xfluid_selector_diss.value)\n",
    "        else:\n",
    "            X_fluid = str(Xfluid_selector_diss.value)\n",
    "        \n",
    "        # run model calculation\n",
    "        result = myfile.calculate_dissolved_volatiles(temperature=temperature,\n",
    "                                                      pressure=pressure,\n",
    "                                                      X_fluid=X_fluid,\n",
    "                                                      model=model_selector_diss.value)\n",
    "        myfile.save_excel(\"VESIcal_Output.xlsx\", calculations=[result], sheet_names=[\"Dissolved_volatiles\"])\n",
    "        local_file = FileLink('./VESIcal_Output.xlsx', result_html_prefix=\"Click here to download: \")\n",
    "        display(local_file)\n",
    "\n",
    "button_diss.on_click(on_button_clicked_diss)"
   ]
  },
  {
   "cell_type": "markdown",
   "metadata": {},
   "source": [
    "# Calculate Equilibrium Fluid"
   ]
  },
  {
   "cell_type": "code",
   "execution_count": 26,
   "metadata": {},
   "outputs": [
    {
     "data": {
      "application/vnd.jupyter.widget-view+json": {
       "model_id": "accdfafa379e4115a76c77029795f10e",
       "version_major": 2,
       "version_minor": 0
      },
      "text/plain": [
       "Dropdown(description='Model:', options=(('MagmaSat', 'MagmaSat'), ('Dixon', 'Dixon'), ('Shishkina', 'Shishkina…"
      ]
     },
     "metadata": {},
     "output_type": "display_data"
    },
    {
     "data": {
      "application/vnd.jupyter.widget-view+json": {
       "model_id": "c9e72463ef8f407687abc2b864eb2a5c",
       "version_major": 2,
       "version_minor": 0
      },
      "text/plain": [
       "Text(value='', description='Temperature:', placeholder='Temperature (degC)', style=DescriptionStyle(descriptio…"
      ]
     },
     "metadata": {},
     "output_type": "display_data"
    },
    {
     "data": {
      "application/vnd.jupyter.widget-view+json": {
       "model_id": "146e8e63fe5d44f981d9192e28605b26",
       "version_major": 2,
       "version_minor": 0
      },
      "text/plain": [
       "Checkbox(value=False, description='Use temperature from file (if checked, put column name in Temperature box)'…"
      ]
     },
     "metadata": {},
     "output_type": "display_data"
    },
    {
     "data": {
      "application/vnd.jupyter.widget-view+json": {
       "model_id": "1dc0d190e513475db8ae92d3463a8374",
       "version_major": 2,
       "version_minor": 0
      },
      "text/plain": [
       "Text(value='', description='Pressure:', placeholder='Pressure (bars)', style=DescriptionStyle(description_widt…"
      ]
     },
     "metadata": {},
     "output_type": "display_data"
    },
    {
     "data": {
      "application/vnd.jupyter.widget-view+json": {
       "model_id": "a7a2ef9f951f4f49bedd3b3e6a88473a",
       "version_major": 2,
       "version_minor": 0
      },
      "text/plain": [
       "Checkbox(value=False, description='Use pressure from file (if checked, put column name in Pressure box)', inde…"
      ]
     },
     "metadata": {},
     "output_type": "display_data"
    },
    {
     "data": {
      "application/vnd.jupyter.widget-view+json": {
       "model_id": "605bcde0d0754675bda2aae6b6340b27",
       "version_major": 2,
       "version_minor": 0
      },
      "text/plain": [
       "Button(description='Calculate Equilibrium Fluid Compositions', icon='check', layout=Layout(height='40px', widt…"
      ]
     },
     "metadata": {},
     "output_type": "display_data"
    },
    {
     "data": {
      "application/vnd.jupyter.widget-view+json": {
       "model_id": "2e244a90ff3e4c54837e654dc255fd4b",
       "version_major": 2,
       "version_minor": 0
      },
      "text/plain": [
       "Output()"
      ]
     },
     "metadata": {},
     "output_type": "display_data"
    }
   ],
   "source": [
    "# create widgets so the user can choose model options\n",
    "\n",
    "# Model selection\n",
    "model_selector_eq = widgets.Dropdown(\n",
    "    options=[('MagmaSat', 'MagmaSat'),\n",
    "             ('Dixon', 'Dixon'),\n",
    "             ('Shishkina', 'ShishkinaIdealMixing'),\n",
    "             ('IaconoMarziano', 'IaconoMarziano'),\n",
    "             ('Liu', 'Liu'),\n",
    "             ('MooreWater', 'MooreWater'),\n",
    "             ('AllisonCarbon (Vesuvius)', 'AllisonCarbon_vesuvius'),\n",
    "             ('AllisonCarbon (Sunset)', 'AllisonCarbon_sunset'),\n",
    "             ('AllisonCarbon (SFVF)', 'AllisonCarbon_sfvf'),\n",
    "             ('AllisonCarbon (Erebus)', 'AllisonCarbon_erebus'),\n",
    "             ('AllisonCarbon (Stromboli)', 'AllisonCarbon_stromboli')\n",
    "            ],\n",
    "    value='MagmaSat',\n",
    "    description='Model:',\n",
    ")\n",
    "\n",
    "# Temperature selection\n",
    "temperature_selector_eq = widgets.Text(\n",
    "    value='',\n",
    "    placeholder='Temperature (degC)',\n",
    "    description='Temperature:',\n",
    "    disabled=False,\n",
    "    style=style\n",
    ")\n",
    "\n",
    "# Temperature type check box if user wants to pass temp from file\n",
    "temperature_selection_checkbox_eq = widgets.Checkbox(value=False,\n",
    "    description='Use temperature from file (if checked, put column name in Temperature box)',\n",
    "    disabled=False,\n",
    "    indent=False,\n",
    "    layout=layout)\n",
    "\n",
    "# Pressure selection\n",
    "pressure_selector_eq = widgets.Text(\n",
    "    value='',\n",
    "    placeholder='Pressure (bars)',\n",
    "    description='Pressure:',\n",
    "    disabled=False,\n",
    "    style=style\n",
    ")\n",
    "\n",
    "# Temperature type check box if user wants to pass temp from file\n",
    "pressure_selection_checkbox_eq = widgets.Checkbox(value=False,\n",
    "    description='Use pressure from file (if checked, put column name in Pressure box)',\n",
    "    disabled=False,\n",
    "    indent=False,\n",
    "    layout=layout)\n",
    "\n",
    "display(model_selector_eq,\n",
    "        temperature_selector_eq,\n",
    "        temperature_selection_checkbox_eq,\n",
    "        pressure_selector_eq,\n",
    "        pressure_selection_checkbox_eq)\n",
    "\n",
    "# Create a button that, when clicked, gets name of file uploaded and\n",
    "# creates a BatchFile object and runs the model calculation\n",
    "button_eq = widgets.Button(\n",
    "    description='Calculate Equilibrium Fluid Compositions',\n",
    "    disabled=False,\n",
    "    button_style='', # 'success', 'info', 'warning', 'danger' or ''\n",
    "    tooltip='Calculate Equilibrium Fluid Compositions',\n",
    "    icon='check', # (FontAwesome names without the `fa-` prefix)\n",
    "    layout=layout\n",
    ")\n",
    "button_eq.style.button_color = 'lightgreen'\n",
    "output = widgets.Output()\n",
    "display(button_eq, output)\n",
    "\n",
    "def on_button_clicked_eq(b):\n",
    "    with output:\n",
    "        # print successful click\n",
    "        print(\"Button clicked.\")\n",
    "        \n",
    "        # get filename, content of file and create BatchFile object\n",
    "        uploaded_filename = next(iter(uploader.value))\n",
    "        content = uploader.value[uploaded_filename]['content']\n",
    "        with open('myfile', 'wb') as f:\n",
    "            f.write(content)\n",
    "        myfile = v.BatchFile(content)\n",
    "        \n",
    "        # sanitize inputs\n",
    "        if temperature_selection_checkbox_eq.value is True:\n",
    "            temperature = str(temperature_selector_eq.value)\n",
    "        else:\n",
    "            temperature = float(temperature_selector_eq.value)\n",
    "        \n",
    "        if pressure_selection_checkbox_eq.value is True:\n",
    "            pressure = str(pressure_selector_eq.value)\n",
    "        else:\n",
    "            pressure = float(pressure_selector_eq.value)\n",
    "        \n",
    "        # run model calculation\n",
    "        result = myfile.calculate_equilibrium_fluid_comp(temperature=temperature,\n",
    "                                                      pressure=pressure,\n",
    "                                                      model=model_selector_eq.value)\n",
    "        myfile.save_excel(\"VESIcal_Output.xlsx\", calculations=[result], sheet_names=[\"EQ_Fluids\"])\n",
    "        local_file = FileLink('./VESIcal_Output.xlsx', result_html_prefix=\"Click here to download: \")\n",
    "        display(local_file)\n",
    "\n",
    "button_eq.on_click(on_button_clicked_eq)"
   ]
  },
  {
   "cell_type": "code",
   "execution_count": null,
   "metadata": {},
   "outputs": [],
   "source": []
  },
  {
   "cell_type": "code",
   "execution_count": null,
   "metadata": {},
   "outputs": [],
   "source": []
  },
  {
   "cell_type": "code",
   "execution_count": null,
   "metadata": {},
   "outputs": [],
   "source": []
  },
  {
   "cell_type": "code",
   "execution_count": null,
   "metadata": {},
   "outputs": [],
   "source": []
  }
 ],
 "metadata": {
  "kernelspec": {
   "display_name": "Python 3 (ipykernel)",
   "language": "python",
   "name": "python3"
  },
  "language_info": {
   "codemirror_mode": {
    "name": "ipython",
    "version": 3
   },
   "file_extension": ".py",
   "mimetype": "text/x-python",
   "name": "python",
   "nbconvert_exporter": "python",
   "pygments_lexer": "ipython3",
   "version": "3.9.7"
  }
 },
 "nbformat": 4,
 "nbformat_minor": 4
}
